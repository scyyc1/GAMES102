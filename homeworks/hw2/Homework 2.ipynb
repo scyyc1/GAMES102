{
 "cells": [
  {
   "cell_type": "markdown",
   "id": "b7bd0862",
   "metadata": {},
   "source": [
    "# Homework 2: Neural Network Fitting"
   ]
  },
  {
   "cell_type": "markdown",
   "id": "d7d10211",
   "metadata": {},
   "source": [
    "## Table of Contents\n",
    "- [0 - Packages](#0)\n",
    "- [1 - Homework Requirements](#1)\n",
    "    - [1.1 - Overall](#1-1)\n",
    "    - [1.2 - Purpose](#1-2)\n",
    "    - [1.3 - Requirements](#1-3)\n",
    "    - [1.4 - Supplementary Materials](#1-4)\n",
    "- [2 - A Naive General Deep NN Framework](#2)\n",
    "- [3 - Single Hidden Layers RBF NN](#3)\n",
    "<!--     - [3.1 - ](#2-1)\n",
    "    - [3.2 - ](#2-2) -->\n",
    "- [4 - Interactive Plot](#4)\n",
    "<!--     - [4.1 -](#4-1)\n",
    "    - [4.2 - ](#4-2) -->\n",
    "- [5 - Reference](#5)"
   ]
  },
  {
   "cell_type": "markdown",
   "id": "ff48144c",
   "metadata": {},
   "source": [
    "<a name='0'></a>\n",
    "## 0. Package and Testing Data"
   ]
  },
  {
   "cell_type": "code",
   "execution_count": 2,
   "id": "03f097e5",
   "metadata": {},
   "outputs": [],
   "source": [
    "# Pakages\n",
    "import numpy as np\n",
    "import matplotlib.pyplot as plt\n",
    "\n",
    "# # Integrated framework\n",
    "# import Interpolation\n",
    "# import Fitting\n",
    "\n",
    "import sys\n",
    "import os\n",
    "sys.path.append(os.path.abspath(os.path.join('..')))\n",
    "from util import util"
   ]
  },
  {
   "cell_type": "code",
   "execution_count": 1143,
   "id": "b00dd410",
   "metadata": {},
   "outputs": [
    {
     "data": {
      "image/png": "[encoded data removed]",
      "text/plain": [
       "<Figure size 640x480 with 1 Axes>"
      ]
     },
     "metadata": {},
     "output_type": "display_data"
    }
   ],
   "source": [
    "# Testing data size\n",
    "num_point = 10\n",
    "\n",
    "# Points for testing\n",
    "x_sample = np.random.rand(num_point)*10\n",
    "y_sample = np.random.rand(num_point)*10\n",
    "\n",
    "# The boundary\n",
    "xmin = np.min(x_sample)\n",
    "xmax = np.max(x_sample)\n",
    "x_range = np.linspace(xmin, xmax, 1000)\n",
    "\n",
    "# Plot\n",
    "plt.plot(x_sample, y_sample, 'o', color='r')\n",
    "plt.show()"
   ]
  },
  {
   "cell_type": "markdown",
   "id": "619cf8ce",
   "metadata": {},
   "source": [
    "## 1. Homework 2 Requirements\n",
    "\n",
    "### 1.1. Overall\n",
    "\n",
    "- Use the RBF neural network function to fit the data\n",
    "\n",
    "  > Still limited to function scenarios\n",
    "\n",
    "- Compare with the methods in Homework 1\n",
    "\n",
    "### 1.2. Purpose\n",
    "\n",
    "- Understand neural network optimization\n",
    "- Learn to optimize with TensorFlow\n",
    "\n",
    "### 1.3. Requirements\n",
    "\n",
    "This assignment is recommended to be completed with TensorFlow in Python, but other languages or frameworks can also be used.\n",
    "\n",
    "Deadline: Evening of October 24, 2020\n",
    "\n",
    "### 1.4. Supplementary Materials\n",
    "\n",
    "[TensorFlow Official Website](https://www.tensorflow.org): Available in Chinese, comprehensive resources (requires circumvention)\n",
    "\n",
    "[Jike Academy TensorFlow Installation Tutorial](https://wiki.jikexueyuan.com/project/tensorflow-zh/get_started/os_setup.html): Provides installation methods via Pip, Docker, Virtualenv, Anaconda or source code compilation. For beginners, [Anaconda](https://www.anaconda.com/) is recommended for easy management and switching between different versions of Python or TensorFlow and other Python libraries (Anaconda Navigator->Environments). If you install TensorFlow with Anaconda, you can directly use the accompanying [Spyder](https://pypi.org/project/spyder/) IDE (Anaconda Navigator->Home->Spyder)\n",
    "\n",
    "Python Video Tutorial: [Qizhi Lecture Hall 2020 Python](https://www.bilibili.com/video/av327814069) , [Morvan Python Tutorial](https://www.bilibili.com/video/BV1wW411Y7ai) \n",
    "\n",
    "TensorFlow Video Tutorial: [Building Your Own Neural Network with TensorFlow (Morvan Python Tutorial)](https://www.bilibili.com/video/BV1Lx411j7ws) \n",
    "\n",
    "RBF Neural Network Reference: [TensorFlow implementation of Radial Basis Function (RBF) Neural Networks](https://blog.csdn.net/Luqiang_Shi/article/details/84894636), you can only do single hidden layer\n"
   ]
  },
  {
   "cell_type": "markdown",
   "id": "9feff8fe",
   "metadata": {},
   "source": [
    "<a name='2'></a>\n",
    "## 2. A Naive General Deep NN Framework"
   ]
  },
  {
   "cell_type": "code",
   "execution_count": 1438,
   "id": "626d18f6",
   "metadata": {},
   "outputs": [],
   "source": [
    "class NN:\n",
    "    def __init__(self, X, Y, layer_dims=[1, 1], activation_dims=[], learning_rate=0.01, num_iter=10000):\n",
    "        self.L = len(activation_dims)\n",
    "        self.activations = activation_dims\n",
    "        self.X = X\n",
    "        self.Y = Y\n",
    "        self.loss = 999999\n",
    "        self.lr = learning_rate\n",
    "        self.num_iter = num_iter\n",
    "        \n",
    "        # Forward propagation\n",
    "        self.W = [None]*self.L\n",
    "        self.b = [None]*self.L\n",
    "        self.Z = [None]*self.L\n",
    "        self.A = [None]*(self.L+1)\n",
    "        self.A[0] = X\n",
    "        # Backward propagation\n",
    "        self.dW = [None]*self.L\n",
    "        self.db = [None]*self.L\n",
    "        self.dZ = [None]*self.L\n",
    "        self.dA = [None]*(self.L+1)\n",
    "        \n",
    "        for l in range(0, self.L):\n",
    "            self.W[l] = np.random.randn(layer_dims[l+1], layer_dims[l]) * 0.01\n",
    "            self.b[l] = np.zeros((layer_dims[l+1], 1))\n",
    "        \n",
    "    def reset(self):\n",
    "        self.W.clear()\n",
    "        self.b.clear()\n",
    "        self.Z.clear()\n",
    "        \n",
    "        self.dW.clear()\n",
    "        self.db.clear()\n",
    "        self.dZ.clear()\n",
    "        self.dA.clear()\n",
    "        \n",
    "        for l in range(0, L):\n",
    "            self.W.append(np.random.randn(layer_dims[l+1], layer_dims[l]) * 0.01)\n",
    "            self.b.append(np.zeros((layer_dims[l+1], 1)))\n",
    "            self.activation.append(activation_dims[l])\n",
    "            \n",
    "    @staticmethod\n",
    "    def activation_gaussian(Z):\n",
    "        return np.exp(-Z**2 / 2)\n",
    "    \n",
    "    def loss_MSE(self):\n",
    "        self.loss = np.sum(np.power(self.A[self.L]-self.Y, 2))\n",
    "        \n",
    "    def fit(self, x):\n",
    "        A = x\n",
    "        \n",
    "        for l in range(0, self.L):\n",
    "            Z = np.dot(self.W[l], A) + self.b[l]\n",
    "            \n",
    "            if(self.activations[l]==\"gaussian\"):\n",
    "                A = self.activation_gaussian(Z)\n",
    "            else:\n",
    "                A = Z\n",
    "                \n",
    "        return A\n",
    "    \n",
    "    def forward_propagation(self):\n",
    "        for l in range(0, self.L):\n",
    "            self.Z[l] = np.dot(self.W[l], self.A[l]) + self.b[l]\n",
    "            \n",
    "            if(self.activations[l]==\"gaussian\"):\n",
    "                self.A[l+1] = self.activation_gaussian(self.Z[l])\n",
    "            else:\n",
    "                self.A[l+1] = self.Z[l]\n",
    "                \n",
    "    def backward_propagation(self):\n",
    "        self.dA[self.L] = 2*self.A[self.L] - 2*self.Y\n",
    "        for l in reversed(range(self.L)):\n",
    "            \n",
    "            m = self.A[l].shape[1]\n",
    "            \n",
    "            if(self.activations[l]==\"gaussian\"):\n",
    "                self.dZ[l] = -self.dA[l+1] * self.Z[l] * np.exp(-np.square(self.Z[l])/2)\n",
    "            else:\n",
    "                self.dZ[l] = self.dA[l+1]\n",
    "                \n",
    "#             print(\"layer \", l, \": \", self.dZ[l].shape == self.Z[l].shape)\n",
    "            \n",
    "            self.dW[l] = np.dot(self.dZ[l], self.A[l].T) / m\n",
    "            self.db[l] = np.sum(self.dZ[l], axis=1, keepdims=True) / m\n",
    "            self.dA[l] = np.dot(self.W[l].T, self.dZ[l])\n",
    "            \n",
    "    def update_parameters(self):\n",
    "        for l in range(self.L):\n",
    "            self.W[l] = self.W[l] - self.lr * self.dW[l]\n",
    "            self.b[l] = self.b[l] - self.lr * self.db[l]\n",
    "    \n",
    "    def train(self):\n",
    "        for i in range(self.num_iter):\n",
    "            self.forward_propagation()\n",
    "            self.loss_MSE()\n",
    "            self.backward_propagation()\n",
    "            self.update_parameters()\n",
    "    \n",
    "    def train_one_round(self):\n",
    "        self.forward_propagation()\n",
    "        self.loss_MSE()\n",
    "        self.backward_propagation()\n",
    "        self.update_parameters()\n",
    "        \n",
    "    def train_n_round(self, n):\n",
    "        for i in range(n):\n",
    "            self.forward_propagation()\n",
    "            self.loss_MSE()\n",
    "            self.backward_propagation()\n",
    "            self.update_parameters()"
   ]
  },
  {
   "cell_type": "markdown",
   "id": "bc12cab0",
   "metadata": {},
   "source": [
    "<a name='2'></a>\n",
    "## 3. Single Hidden Layers RBF NN\n",
    "\n",
    "Below is a instance of a simple RBF network with one hidden layer. In this hidden layer, the linear inputs will be activated by gaussian function."
   ]
  },
  {
   "cell_type": "code",
   "execution_count": 1604,
   "id": "74a6525f",
   "metadata": {},
   "outputs": [],
   "source": [
    "RBF_NN = NN(np.array([x_sample]), np.array(y_sample), layer_dims=[1, 100, 1], activation_dims=[\"gaussian\", \"default\"])"
   ]
  },
  {
   "cell_type": "markdown",
   "id": "cebd63f3",
   "metadata": {},
   "source": [
    "The following piece of code will train the network every 1000 rounds and plot. Repeatedly running it could see the change of decision boundary. "
   ]
  },
  {
   "cell_type": "code",
   "execution_count": 1631,
   "id": "40f26bac",
   "metadata": {},
   "outputs": [
    {
     "name": "stdout",
     "output_type": "stream",
     "text": [
      "0.129084419440942\n"
     ]
    },
    {
     "data": {
      "image/png": "[encoded data removed]",
      "text/plain": [
       "<Figure size 640x480 with 1 Axes>"
      ]
     },
     "metadata": {},
     "output_type": "display_data"
    }
   ],
   "source": [
    "y_pred = RBF_NN.fit(np.array([x_range]))\n",
    "RBF_NN.train_n_round(1000)\n",
    "print(RBF_NN.loss)\n",
    "plt.plot(x_range, y_pred.T)\n",
    "plt.plot(x_sample, y_sample, 'o', color='r')\n",
    "plt.show()"
   ]
  },
  {
   "cell_type": "markdown",
   "id": "d96f3087",
   "metadata": {},
   "source": [
    "<a name='4'></a>\n",
    "## 4. Interactive Plot\n",
    "\n",
    "<a name='5'></a>\n",
    "## 5. Reference"
   ]
  }
 ],
 "metadata": {
  "kernelspec": {
   "display_name": "Python 3 (ipykernel)",
   "language": "python",
   "name": "python3"
  },
  "language_info": {
   "codemirror_mode": {
    "name": "ipython",
    "version": 3
   },
   "file_extension": ".py",
   "mimetype": "text/x-python",
   "name": "python",
   "nbconvert_exporter": "python",
   "pygments_lexer": "ipython3",
   "version": "3.11.0"
  }
 },
 "nbformat": 4,
 "nbformat_minor": 5
}
