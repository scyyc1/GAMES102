{
 "cells": [
  {
   "cell_type": "markdown",
   "id": "1d296d40",
   "metadata": {},
   "source": [
    "# Homework 2: Neural Network Fitting"
   ]
  },
  {
   "cell_type": "markdown",
   "id": "a9bc3041",
   "metadata": {},
   "source": [
    "## Table of Contents\n",
    "- [0 - Packages](#0)\n",
    "- [1 - Homework Requirements](#1)\n",
    "    - [1.1 - Overall](#1-1)\n",
    "    - [1.2 - Purpose](#1-2)\n",
    "    - [1.3 - Requirements](#1-3)\n",
    "    - [1.4 - Supplementary Materials](#1-4)\n",
    "- [2 - A Naive General Deep NN Framework](#2)\n",
    "<!--     - [3.1 - ](#2-1)\n",
    "    - [3.2 - ](#2-2) -->\n",
    "- [4 - Single Hidden Layers RBF NN](#4)\n",
    "<!--     - [4.1 -](#4-1)\n",
    "    - [4.2 - ](#4-2) -->\n",
    "- [5 - Reference](#5)"
   ]
  },
  {
   "cell_type": "markdown",
   "id": "4626a6f8",
   "metadata": {},
   "source": [
    "<a name='0'></a>\n",
    "## 0. Package and Testing Data"
   ]
  },
  {
   "cell_type": "code",
   "execution_count": 2,
   "id": "68c881a0",
   "metadata": {},
   "outputs": [],
   "source": [
    "# Pakages\n",
    "import numpy as np\n",
    "import matplotlib.pyplot as plt\n",
    "\n",
    "# # Integrated framework\n",
    "# import Interpolation\n",
    "# import Fitting\n",
    "\n",
    "import sys\n",
    "import os\n",
    "sys.path.append(os.path.abspath(os.path.join('..')))\n",
    "from util import util"
   ]
  },
  {
   "cell_type": "code",
   "execution_count": 3,
   "id": "b2dc7c2c",
   "metadata": {},
   "outputs": [
    {
     "data": {
      "image/png": "[encoded data removed]",
      "text/plain": [
       "<Figure size 640x480 with 1 Axes>"
      ]
     },
     "metadata": {},
     "output_type": "display_data"
    }
   ],
   "source": [
    "# Testing data size\n",
    "num_point = 5\n",
    "\n",
    "# Points for testing\n",
    "x_sample = np.random.rand(num_point)*10\n",
    "y_sample = np.random.rand(num_point)*10\n",
    "\n",
    "# The boundary\n",
    "xmin = np.min(x_sample)\n",
    "xmax = np.max(x_sample)\n",
    "x_range = np.linspace(xmin, xmax, 1000)\n",
    "\n",
    "# Plot\n",
    "plt.plot(x_sample, y_sample, 'o', color='r')\n",
    "plt.show()"
   ]
  },
  {
   "cell_type": "markdown",
   "id": "beeb9532",
   "metadata": {},
   "source": [
    "## 1. Homework 2 Requirements\n",
    "\n",
    "### 1.1. Overall\n",
    "\n",
    "- Use the RBF neural network function to fit the data\n",
    "\n",
    "  > Still limited to function scenarios\n",
    "\n",
    "- Compare with the methods in Homework 1\n",
    "\n",
    "### 1.2. Purpose\n",
    "\n",
    "- Understand neural network optimization\n",
    "- Learn to optimize with TensorFlow\n",
    "\n",
    "### 1.3. Requirements\n",
    "\n",
    "This assignment is recommended to be completed with TensorFlow in Python, but other languages or frameworks can also be used.\n",
    "\n",
    "Deadline: Evening of October 24, 2020\n",
    "\n",
    "### 1.4. Supplementary Materials\n",
    "\n",
    "[TensorFlow Official Website](https://www.tensorflow.org): Available in Chinese, comprehensive resources (requires circumvention)\n",
    "\n",
    "[Jike Academy TensorFlow Installation Tutorial](https://wiki.jikexueyuan.com/project/tensorflow-zh/get_started/os_setup.html): Provides installation methods via Pip, Docker, Virtualenv, Anaconda or source code compilation. For beginners, [Anaconda](https://www.anaconda.com/) is recommended for easy management and switching between different versions of Python or TensorFlow and other Python libraries (Anaconda Navigator->Environments). If you install TensorFlow with Anaconda, you can directly use the accompanying [Spyder](https://pypi.org/project/spyder/) IDE (Anaconda Navigator->Home->Spyder)\n",
    "\n",
    "Python Video Tutorial: [Qizhi Lecture Hall 2020 Python](https://www.bilibili.com/video/av327814069) , [Morvan Python Tutorial](https://www.bilibili.com/video/BV1wW411Y7ai) \n",
    "\n",
    "TensorFlow Video Tutorial: [Building Your Own Neural Network with TensorFlow (Morvan Python Tutorial)](https://www.bilibili.com/video/BV1Lx411j7ws) \n",
    "\n",
    "RBF Neural Network Reference: [TensorFlow implementation of Radial Basis Function (RBF) Neural Networks](https://blog.csdn.net/Luqiang_Shi/article/details/84894636), you can only do single hidden layer\n"
   ]
  },
  {
   "cell_type": "markdown",
   "id": "7660fced",
   "metadata": {},
   "source": [
    "# 作业 2\n",
    "\n",
    "## 任务\n",
    "\n",
    "- 使用 RBF 神经网络函数来拟合数据\n",
    "\n",
    "  > 仍限制在函数情形\n",
    "\n",
    "- 与作业 1 的方法比较\n",
    "\n",
    "## 目的\n",
    "\n",
    "- 理解神经网络优化\n",
    "- 学习使用 TensorFlow 来优化\n",
    "\n",
    "## 要求\n",
    "\n",
    "此次作业建议使用 python 下的 TensorFlow 完成，也可用其他语言其他框架\n",
    "\n",
    "Deadline：2020 年 10 月 24 日晚\n",
    "\n",
    "## 补充资料\n",
    "\n",
    "[TensorFlow官网](https://www.tensorflow.org)：有中文，资料很全（需要科学上网 fq）\n",
    "\n",
    "[极客学院TensorFlow安装教程](https://wiki.jikexueyuan.com/project/tensorflow-zh/get_started/os_setup.html)：提供 Pip, Docker, Virtualenv, Anaconda 或 源码编译的方法安装。小白推荐 [Anaconda](https://www.anaconda.com/)，方便管理与切换不同版本 Python 或 TensorFlow 等 Python 库（Anaconda Navigator->Enviorenments）.若使用 Anaconda 安装 TensorFlow，可以直接使用 Anaconda 附带的[Spyder](https://pypi.org/project/spyder/) IDE（Anaconda Navigator->Home->Spyder）\n",
    "\n",
    "Python视频教程：[求知讲堂2020python](https://www.bilibili.com/video/av327814069) , [莫烦 Python 教程](https://www.bilibili.com/video/BV1wW411Y7ai) \n",
    "\n",
    "TensorFlow视频教程：[Tensorflow 搭建自己的神经网络 (莫烦 Python 教程)](https://www.bilibili.com/video/BV1Lx411j7ws) \n",
    "\n",
    "RBF神经网络参考：[径向基（RBF）神经网络的tensorflow实现](https://blog.csdn.net/Luqiang_Shi/article/details/84894636)，可只做单隐层"
   ]
  },
  {
   "cell_type": "code",
   "execution_count": 79,
   "id": "185ef7f3",
   "metadata": {},
   "outputs": [],
   "source": [
    "class NN:\n",
    "    def __init__(self, X, Y, layer_dims=[1, 1], activation_dims=[], learning_rate=0.01, num_iter=1000):\n",
    "        self.L = len(activation_dims)\n",
    "        self.activations = activation_dims\n",
    "        self.X = X\n",
    "        self.Y = Y\n",
    "        self.loss = 999999\n",
    "        self.lr = learning_rate\n",
    "        self.num_iter = num_iter\n",
    "        \n",
    "        # Forward propagation\n",
    "        self.W = [None]*self.L\n",
    "        self.b = [None]*self.L\n",
    "        self.Z = [None]*self.L\n",
    "        self.A = [None]*(self.L+1)\n",
    "        self.A[0] = X\n",
    "        # Backward propagation\n",
    "        self.dW = [None]*self.L\n",
    "        self.db = [None]*self.L\n",
    "        self.dZ = [None]*self.L\n",
    "        self.dA = [None]*(self.L+1)\n",
    "        \n",
    "        for l in range(0, self.L):\n",
    "            self.W[l] = np.random.randn(layer_dims[l+1], layer_dims[l]) * 0.01\n",
    "            self.b[l] = np.zeros((layer_dims[l+1], 1))\n",
    "        \n",
    "    def reset(self):\n",
    "        self.W.clear()\n",
    "        self.b.clear()\n",
    "        self.Z.clear()\n",
    "        \n",
    "        self.dW.clear()\n",
    "        self.db.clear()\n",
    "        self.dZ.clear()\n",
    "        self.dA.clear()\n",
    "        \n",
    "        for l in range(0, L):\n",
    "            self.W.append(np.random.randn(layer_dims[l+1], layer_dims[l]) * 0.01)\n",
    "            self.b.append(np.zeros((layer_dims[l+1], 1)))\n",
    "            self.activation.append(activation_dims[l])\n",
    "            \n",
    "    @staticmethod\n",
    "    def activation_gaussian(Z):\n",
    "        return np.exp(-Z**2 / 2)\n",
    "    \n",
    "    def loss_MSE(self):\n",
    "        self.loss = np.sum(np.power(self.A[self.L]-self.Y, 2))\n",
    "    \n",
    "    def forward_propagation(self):\n",
    "        for l in range(0, self.L):\n",
    "            self.Z[l] = np.dot(self.W[l], self.A[l]) + self.b[l]\n",
    "            \n",
    "            if(self.activations[l]==\"gaussian\"):\n",
    "                self.A[l+1] = self.activation_gaussian(Z[l])\n",
    "            else:\n",
    "                self.A[l+1] = self.Z[l]\n",
    "                \n",
    "    def backward_propagation(self):\n",
    "        self.dA[self.L] = 2*self.A[self.L]-2*self.Y\n",
    "        for l in reversed(range(self.L)):\n",
    "            \n",
    "            m = self.A[l].shape[1]\n",
    "            \n",
    "            if(self.activations[l]==\"gaussian\"):\n",
    "                self.dZ[l] = np.dot(self.dA[l+1], -np.dot(self.Z[l], np.exp(-np.square(self.Z[l])/2).T).T)\n",
    "            else:\n",
    "                self.dZ[l] = self.dA[l+1]\n",
    "                \n",
    "            print(\"layer \", l, \": \", self.dZ[l].shape == self.Z[l].shape)\n",
    "            \n",
    "            self.dW[l] = np.dot(self.dZ[l], self.A[l].T) / m\n",
    "            self.db[l] = np.sum(self.dZ[l], axis=1, keepdims=True) / m\n",
    "            self.dA[l] = np.dot(self.W[l].T, self.dZ[l])\n",
    "            \n",
    "    def update_parameters(self):\n",
    "        for l in range(self.L):\n",
    "            self.W[l] = self.W[l] - self.lr * self.dW[l]\n",
    "            self.b[l] = self.b[l] - self.lr * self.db[l]\n",
    "    \n",
    "    def train(self):\n",
    "        for i in range(self.num_iter):\n",
    "            self.forward_propagation()\n",
    "            self.loss_MSE()\n",
    "            self.backward_propagation()\n",
    "            self.update_parameters()\n",
    "    \n",
    "    def train_one_round(self):\n",
    "        self.forward_propagation()\n",
    "        self.loss_MSE()\n",
    "        self.backward_propagation()\n",
    "        self.update_parameters()"
   ]
  },
  {
   "cell_type": "code",
   "execution_count": 80,
   "id": "97f4faa9",
   "metadata": {},
   "outputs": [],
   "source": [
    "test = NN(np.array([x_sample]), np.array(y_sample), layer_dims=[1, 1], activation_dims=[\"default\"])"
   ]
  },
  {
   "cell_type": "code",
   "execution_count": 81,
   "id": "25cac2f4",
   "metadata": {},
   "outputs": [
    {
     "name": "stdout",
     "output_type": "stream",
     "text": [
      "layer  0 :  True\n"
     ]
    }
   ],
   "source": [
    "test.train_one_round()"
   ]
  },
  {
   "cell_type": "code",
   "execution_count": 78,
   "id": "eae0b488",
   "metadata": {},
   "outputs": [
    {
     "data": {
      "text/plain": [
       "1"
      ]
     },
     "execution_count": 78,
     "metadata": {},
     "output_type": "execute_result"
    }
   ],
   "source": [
    "test.L"
   ]
  },
  {
   "cell_type": "code",
   "execution_count": 77,
   "id": "b29c75d6",
   "metadata": {},
   "outputs": [
    {
     "data": {
      "text/plain": [
       "[None]"
      ]
     },
     "execution_count": 77,
     "metadata": {},
     "output_type": "execute_result"
    }
   ],
   "source": [
    "test.dW"
   ]
  },
  {
   "cell_type": "code",
   "execution_count": 63,
   "id": "bac68a60",
   "metadata": {},
   "outputs": [
    {
     "data": {
      "text/plain": [
       "(1, 5)"
      ]
     },
     "execution_count": 63,
     "metadata": {},
     "output_type": "execute_result"
    }
   ],
   "source": [
    "test.A[0].shape"
   ]
  },
  {
   "cell_type": "code",
   "execution_count": 82,
   "id": "b25f120b",
   "metadata": {},
   "outputs": [
    {
     "data": {
      "text/plain": [
       "151.77675436504146"
      ]
     },
     "execution_count": 82,
     "metadata": {},
     "output_type": "execute_result"
    }
   ],
   "source": [
    "test.loss"
   ]
  },
  {
   "cell_type": "code",
   "execution_count": 83,
   "id": "e6187927",
   "metadata": {},
   "outputs": [
    {
     "data": {
      "text/plain": [
       "[array([[0.57054661]])]"
      ]
     },
     "execution_count": 83,
     "metadata": {},
     "output_type": "execute_result"
    }
   ],
   "source": [
    "test.W"
   ]
  }
 ],
 "metadata": {
  "kernelspec": {
   "display_name": "Python 3 (ipykernel)",
   "language": "python",
   "name": "python3"
  },
  "language_info": {
   "codemirror_mode": {
    "name": "ipython",
    "version": 3
   },
   "file_extension": ".py",
   "mimetype": "text/x-python",
   "name": "python",
   "nbconvert_exporter": "python",
   "pygments_lexer": "ipython3",
   "version": "3.11.0"
  }
 },
 "nbformat": 4,
 "nbformat_minor": 5
}
